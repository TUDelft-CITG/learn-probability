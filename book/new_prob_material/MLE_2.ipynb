{
 "cells": [
  {
   "cell_type": "markdown",
   "id": "775e9c01-5827-485f-8bfe-2c859624016a",
   "metadata": {
    "tags": []
   },
   "source": [
    "# Maximum Likelihood Estimation 2\n",
    "\n",
    "Insert imgage\n",
    "\n",
    "Welcome to the Maximum Likelihood Estimation 2 module.  At the end of this module, you will be able to calculate the likelihood function for a given probability distribution and use it to find the maximum likelihood estimate of the parameters. Manipulate the distribution parameters to evaluate conditions relevant to Civil Engineering and Geosciences (CEG) applications.\n",
    "\n",
    "This module is set up with a 3-unit format:\n",
    "\n",
    "1. The basic theory of a specific concept.\n",
    "2. Example of how a specific concept is applied to a  CEG problem, through step-by-step explanations and short python code blocks.\n",
    "3. Introduction of a new problem, to practice using the method from unit 2.\n",
    "\n",
    "---\n",
    "## 1. Theory\n",
    "\n",
    "Refer to module MLE 1 for the summary of the relevant theory.\n",
    "\n",
    "Recap of steps to follow when finding the maximum likelihood estimate:\n",
    "\n",
    "1. Define the likelihood function $L(\\theta \\mid \\mathbf{x})$.\n",
    "2. Take natural logarithm of the likelihood function to get the log-likelihood function $\\ln (L(\\theta \\mid \\mathbf{x}))$.\n",
    "3. Differentiate the log-likelihood function and set it to zero: $\\frac{\\partial L(\\theta \\mid \\mathbf{x})}{\\partial \\theta} = 0$.\n",
    "4. Solve the equation for $\\hat{\\theta}$.\n",
    "\n",
    "---\n",
    "\n",
    "\n",
    "## 2. Wave heights\n",
    "\n",
    "\n",
    "Insert image? Exercise is from the prob design exam January 2019.    \n",
    "\n",
    "A group of coastal and offshore engineers is interested in modelling wave heights. They decide to investigate the water level Z as the sum of two random variables:\n",
    "\n",
    "a) X: Significant wave height in m and \\\n",
    "b) Y: Storm surge also in m\n",
    "\n",
    "As an initial model, they decide that both X and Y are independent and identically distributed. In fact they model them as exponentially distributed with parameter $\\theta$. That is $f_X(x)=\\theta e^{-\\theta x}$ and $f_Y(y)=\\theta e^{-\\theta y}$.\n",
    "\n",
    "1. Show with clear calculations that $f_Z(z)=\\theta^2 z e^{-\\theta z}$.\n",
    "2. Show with clear calculations an expression for $\\hat{\\theta}$, the Maximum Likelihood Estimator of $\\theta$ based on $f_Z(z)$.\n",
    "\n",
    "**1. Show with clear calculations that $\\mathbf{f_Z(z)=\\theta^2 z e^{-\\theta z}}$.**\n",
    "\n",
    "We know that X and Y are independent, and $Z = X + Y$, so we can write $f_X(x) = f_X(z-y)$ and $$f_Z(z)=\\left(f_X \\otimes\\right. \\left.f_Y\\right)(z) =\\int_{-\\infty}^{+\\infty} f_X(z-y) f_Y(y) d y=\\int_0^z\\left(\\theta e^{-\\theta(z-y)}\\right)\\left(\\theta e^{-\\theta(y)}\\right) d y \n",
    " =\\theta^2 \\int_0^z e^{-\\theta(z-y)-\\theta y} d y=\\theta^2 \\int_0^z e^{-\\theta z} d y=\\theta^2 z e^{-\\theta z}$$\n",
    "\n",
    "**2. Show with clear calculations an expression for $\\hat{\\theta}$, the Maximum Likelihood Estimator of $\\theta$ based on $f_Z(z)$.**\n",
    "\n",
    "The likelihood function can be written as: $$L\\left(z_1, z_2 \\ldots z_n ; \\theta\\right)=\\prod_{i=1}^n f_Z\\left(z_i ; \\theta\\right)=\\theta^{2 n} \\exp \\left(\\sum_{i=1}^n-\\theta z_i\\right) \\prod_{i=1}^n z_i$$\n",
    "\n",
    "Taking natural logarithm of the likelihood function, the log-likelihood is: $$\\ln \\left(L\\left(z_1, z_2 \\ldots z_n ; \\theta\\right)\\right)=2 n \\ln (\\theta)+-\\theta \\sum_{i=1}^n z_i+\\ln \\left(\\prod_{i=1}^n z_i\\right) $$\n",
    "\n",
    "Setting the derivative of the log-likelihood function equal to zero: $$\\frac{d\\left(\\ln \\left(L\\left(x_1, x_2 \\ldots x_n ; \\theta\\right)\\right)\\right)}{d \\theta}=\\frac{2 n}{\\theta}-\\sum_{i=1}^n z_i=0$$\n",
    "\n",
    "Solving for the maximum likelihood estimate $\\hat{\\theta}$, we obtain $\\hat{\\theta} = \\frac{2n}{\\sum_{i=1}^n z_i}$.\n",
    "\n",
    "---\n",
    "\n",
    "## 3. Buckling of Steel Columns\n",
    "\n",
    "A structural steel manufacturer company carried out an inspection on the steel beams it's producing. Out of the 100 selected samples, 9 did not meet the buckling requirements.\n",
    "\n",
    "Assuming that the dataset can be described by the binomial distribution with unknown parameter $\\theta$, the PMF is given by:\n",
    "\n",
    "$p_x(x,\\theta)={n \\choose x} \\theta^x (1 - \\theta)^{n-x}$\n",
    "\n",
    "In this exercise, you can test your understanding of the maximum likelihood estimation of the probability of a flawed observation based on the given data.\n",
    "\n",
    "1. Is $L(\\theta) = \\theta^x (1 - \\theta)^{n-x}$ a correct likelihood function? T/F \\\n",
    "Could be a fun fact to add that ${n \\choose x}$ doesnt depend on $\\theta$ so can be omitted.\n",
    "\n",
    "2. What is the maximum likelihood estimate of the probability of a flawed observation based on the given data? \\\n",
    "0.09, same as x/n wow cool\n"
   ]
  },
  {
   "cell_type": "code",
   "execution_count": null,
   "id": "a8a3efeb-fa42-4cf0-9de8-8ba6d9ac2bea",
   "metadata": {},
   "outputs": [],
   "source": []
  }
 ],
 "metadata": {
  "kernelspec": {
   "display_name": "Python 3.11.3 64-bit",
   "language": "python",
   "name": "python3"
  },
  "language_info": {
   "codemirror_mode": {
    "name": "ipython",
    "version": 3
   },
   "file_extension": ".py",
   "mimetype": "text/x-python",
   "name": "python",
   "nbconvert_exporter": "python",
   "pygments_lexer": "ipython3",
   "version": "3.11.3"
  },
  "vscode": {
   "interpreter": {
    "hash": "aee8b7b246df8f9039afb4144a1f6fd8d2ca17a180786b69acc140d282b71a49"
   }
  }
 },
 "nbformat": 4,
 "nbformat_minor": 5
}
